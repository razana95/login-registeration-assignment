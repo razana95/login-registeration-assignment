{
  "nbformat": 4,
  "nbformat_minor": 0,
  "metadata": {
    "colab": {
      "name": "file for assign.ipynb",
      "provenance": []
    },
    "kernelspec": {
      "name": "python3",
      "display_name": "Python 3"
    },
    "language_info": {
      "name": "python"
    }
  },
  "cells": [
    {
      "cell_type": "code",
      "execution_count": 1,
      "metadata": {
        "id": "KRw4kh2mPqW2"
      },
      "outputs": [],
      "source": [
        "import csv\n",
        "with open(\"database1.csv\",\"w\") as d:\n",
        "  do=csv.writer(d)"
      ]
    }
  ]
}