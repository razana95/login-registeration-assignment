{
  "nbformat": 4,
  "nbformat_minor": 0,
  "metadata": {
    "colab": {
      "name": "login csv final.ipynb",
      "provenance": [],
      "collapsed_sections": []
    },
    "kernelspec": {
      "name": "python3",
      "display_name": "Python 3"
    },
    "language_info": {
      "name": "python"
    }
  },
  "cells": [
    {
      "cell_type": "code",
      "execution_count": null,
      "metadata": {
        "id": "bkwTVftH3DMb",
        "colab": {
          "base_uri": "https://localhost:8080/"
        },
        "outputId": "b6d9b5ed-ac27-4bb9-87cb-7ddc02365883"
      },
      "outputs": [
        {
          "output_type": "stream",
          "name": "stdout",
          "text": [
            "signup(press 1)|login(press 2):2\n",
            "enter your mail_id:qqq\n",
            "enter your password:ww\n",
            "invalid email_id or password\n",
            "do you want to register or select forget password?\n",
            "press 1 to register and 2 to retrieve password::2\n",
            "enter your email_id:fareez@gmail.com\n",
            "Your retrieved password isfazRAZ2@\n"
          ]
        }
      ],
      "source": [
        "import csv\n",
        "import re\n",
        "#FUNCTION FOR REGISTERATION\n",
        "def register():\n",
        "  with open(\"database1.csv\",\"a\") as db:\n",
        "   data=csv.writer(db)\n",
        "   email_format='^[a-z A-Z 0-9]+[\\._]?[a-z A-Z 0-9]+[@]\\w+[.]\\w{2,3}$'\n",
        "   passwrd_format='^(?=.*\\d)(?=.*[a-z])(?=.*[A-Z])(?=.*[!@#$%^&*?])[\\w!@#$%^&*?]{5,16}$'\n",
        "   #CHECKING CONDITIONS FOR GIVEN EMAIL FORMAT USING RegEX\n",
        "   while True:\n",
        "    email_id=input(\"Enter email_id/username:\")\n",
        "    if re.match(email_format,email_id) is None:\n",
        "       print(\"format of email_id/username incorrect...Try again\")\n",
        "       register()\n",
        "    else:\n",
        "        print(\"Email_id created successfully.\")\n",
        "        break\n",
        "    #CHECKING CONDITIONS FOR GIVEN PASSWORD FORMAT USING RegEx    \n",
        "   while True:\n",
        "    password=input(\"Enter password:\")\n",
        "    if re.match(passwrd_format,password) is None:\n",
        "       print(\"Password should contain the following:\\n it should have atleast one uppercase,one lowercase,one digit,\\n one special character and length should be between 5-16.\")\n",
        "       break\n",
        "    else:\n",
        "      print(\"Password created successfully.\") \n",
        "      #APPENDING EMAIL AND PASSWORD IN THE CSV FILE  \n",
        "      data.writerow([email_id,password])\n",
        "      break\n",
        "   while True:\n",
        "    ask=input(\"Do you want to enter more records(y/n):\")\n",
        "    if ask in 'nN':\n",
        "      break\n",
        "    elif ask in 'yY':\n",
        "     register()\n",
        "\n",
        "#FUNCTION FOR LOGIN\n",
        "def login():\n",
        "  #READING CSV FILE TO CHECK FOR EMAIL AND PASSWORD\n",
        "  with open(\"database1.csv\",\"r\") as db:\n",
        "    details=csv.reader(db)\n",
        "    email=input(\"enter your mail_id:\")\n",
        "    passwrd=input(\"enter your password:\")\n",
        "    for row in details:\n",
        "      if row==[email,passwrd]:\n",
        "        print(\"logged In!\")\n",
        "        return True\n",
        "    else:\n",
        "        print(\"invalid email_id or password\")\n",
        "        print(\"do you want to register or select forget password?\")\n",
        "        try:\n",
        "          select=input(\"press 1 to register and 2 to retrieve password::\")\n",
        "          if select==\"1\":\n",
        "            register()\n",
        "          elif select==\"2\":\n",
        "            retrieve() \n",
        "        except:\n",
        "           print(\"invalid\")\n",
        "           return False\n",
        "#FUNCTION FOR PASSWORD RETRIEVAL\n",
        "def retrieve():\n",
        " try:\n",
        "  id=input(\"enter your email_id:\")\n",
        "  with open(\"database1.csv\",\"r\") as db:\n",
        "    details=csv.reader(db)\n",
        "    for row in details:\n",
        "      if row[0]==id:\n",
        "        #passcode=[row[0],row[1]]\n",
        "        print(\"Your retrieved password is\"+row[1])\n",
        "      '''else:\n",
        "        print(\"password not found...register again\")\n",
        "        break'''\n",
        " except:\n",
        "   print(\"password not found...register again\")\n",
        "\n",
        "\n",
        "def main():\n",
        "    option=input(\"signup(press 1)|login(press 2):\")\n",
        "    if option==\"1\":\n",
        "      register()\n",
        "    elif option==\"2\":\n",
        "      login()\n",
        "    else:\n",
        "      print(\"select valid option\")\n",
        "\n",
        "main()\n"
      ]
    },
    {
      "cell_type": "code",
      "source": [
        ""
      ],
      "metadata": {
        "id": "ifL7xzlfvUAS"
      },
      "execution_count": null,
      "outputs": []
    },
    {
      "cell_type": "code",
      "source": [
        ""
      ],
      "metadata": {
        "id": "xbacSg87D_j_"
      },
      "execution_count": null,
      "outputs": []
    },
    {
      "cell_type": "code",
      "source": [
        ""
      ],
      "metadata": {
        "id": "bkREmquNCbgk"
      },
      "execution_count": null,
      "outputs": []
    }
  ]
}